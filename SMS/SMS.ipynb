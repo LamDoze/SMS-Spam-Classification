{
 "cells": [
  {
   "cell_type": "code",
   "execution_count": 1,
   "metadata": {
    "colab": {
     "base_uri": "https://localhost:8080/"
    },
    "id": "QKV5rU_UcqVt",
    "outputId": "d9b3d5c4-3028-4c37-cc28-4a0e4c77473a"
   },
   "outputs": [
    {
     "name": "stdout",
     "output_type": "stream",
     "text": [
      "2.16.1\n"
     ]
    }
   ],
   "source": [
    "import tensorflow as tf\n",
    "import pandas as pd\n",
    "from tensorflow import keras\n",
    "import tensorflow_datasets as tfds\n",
    "import numpy as np\n",
    "import matplotlib.pyplot as plt\n",
    "\n",
    "print(tf.__version__)"
   ]
  },
  {
   "cell_type": "code",
   "execution_count": 2,
   "metadata": {
    "colab": {
     "base_uri": "https://localhost:8080/"
    },
    "id": "n6QGHmPvc1-b",
    "outputId": "f94b38d3-aa41-47fc-a98a-22a704633292"
   },
   "outputs": [],
   "source": [
    "train_file_path = \"../SMS/train-data.tsv\"\n",
    "test_file_path = \"../SMS/valid-data.tsv\""
   ]
  },
  {
   "cell_type": "code",
   "execution_count": 3,
   "metadata": {
    "id": "2oFd-X5PdJ4D"
   },
   "outputs": [],
   "source": [
    "# Load and preprocess the data\n",
    "def load_data(file_path):\n",
    "    data = pd.read_csv(file_path, sep='\\t', header=None, names=['label', 'text'])\n",
    "    data['label'] = data['label'].map({'ham': 0, 'spam': 1})\n",
    "    return data\n",
    "\n",
    "train_data = load_data(train_file_path)\n",
    "test_data = load_data(test_file_path)\n",
    "\n",
    "# Tokenize the text data\n",
    "tokenizer = tf.keras.preprocessing.text.Tokenizer(num_words=10000, oov_token='<OOV>')\n",
    "tokenizer.fit_on_texts(train_data['text'])\n",
    "\n",
    "train_sequences = tokenizer.texts_to_sequences(train_data['text'])\n",
    "train_padded = tf.keras.preprocessing.sequence.pad_sequences(train_sequences, padding='post', maxlen=50)\n",
    "\n",
    "test_sequences = tokenizer.texts_to_sequences(test_data['text'])\n",
    "test_padded = tf.keras.preprocessing.sequence.pad_sequences(test_sequences, padding='post', maxlen=50)\n",
    "\n",
    "train_labels = train_data['label'].values\n",
    "test_labels = test_data['label'].values"
   ]
  },
  {
   "cell_type": "code",
   "execution_count": 4,
   "metadata": {
    "id": "_9jUD46rhDXv"
   },
   "outputs": [],
   "source": [
    "# Build the model\n",
    "model = tf.keras.Sequential([\n",
    "    tf.keras.layers.Embedding(input_dim=10000, output_dim=16),\n",
    "    tf.keras.layers.GlobalAveragePooling1D(),\n",
    "    tf.keras.layers.Dense(24, activation='relu'),\n",
    "    tf.keras.layers.Dense(1, activation='sigmoid')\n",
    "])\n",
    "\n",
    "model.compile(loss='binary_crossentropy', optimizer='adam', metrics=['accuracy'])"
   ]
  },
  {
   "cell_type": "code",
   "execution_count": 5,
   "metadata": {
    "colab": {
     "base_uri": "https://localhost:8080/"
    },
    "id": "S-YdVH5xhF_k",
    "outputId": "f4183c82-e09d-443c-ba50-365a9bba192f"
   },
   "outputs": [
    {
     "name": "stdout",
     "output_type": "stream",
     "text": [
      "Epoch 1/10\n",
      "131/131 - 3s - 26ms/step - accuracy: 0.8653 - loss: 0.3634 - val_accuracy: 0.8657 - val_loss: 0.3264\n",
      "Epoch 2/10\n",
      "131/131 - 1s - 5ms/step - accuracy: 0.8660 - loss: 0.3069 - val_accuracy: 0.8657 - val_loss: 0.2750\n",
      "Epoch 3/10\n",
      "131/131 - 1s - 4ms/step - accuracy: 0.9028 - loss: 0.2092 - val_accuracy: 0.9562 - val_loss: 0.1560\n",
      "Epoch 4/10\n",
      "131/131 - 1s - 4ms/step - accuracy: 0.9689 - loss: 0.1083 - val_accuracy: 0.9749 - val_loss: 0.0942\n",
      "Epoch 5/10\n",
      "131/131 - 1s - 4ms/step - accuracy: 0.9830 - loss: 0.0665 - val_accuracy: 0.9756 - val_loss: 0.0746\n",
      "Epoch 6/10\n",
      "131/131 - 1s - 4ms/step - accuracy: 0.9868 - loss: 0.0492 - val_accuracy: 0.9813 - val_loss: 0.0605\n",
      "Epoch 7/10\n",
      "131/131 - 1s - 5ms/step - accuracy: 0.9895 - loss: 0.0387 - val_accuracy: 0.9813 - val_loss: 0.0544\n",
      "Epoch 8/10\n",
      "131/131 - 1s - 4ms/step - accuracy: 0.9904 - loss: 0.0336 - val_accuracy: 0.9813 - val_loss: 0.0513\n",
      "Epoch 9/10\n",
      "131/131 - 1s - 4ms/step - accuracy: 0.9921 - loss: 0.0283 - val_accuracy: 0.9828 - val_loss: 0.0479\n",
      "Epoch 10/10\n",
      "131/131 - 1s - 4ms/step - accuracy: 0.9933 - loss: 0.0241 - val_accuracy: 0.9813 - val_loss: 0.0496\n"
     ]
    }
   ],
   "source": [
    "# Train the model\n",
    "history = model.fit(train_padded, train_labels, epochs=10, validation_data=(test_padded, test_labels), verbose=2)"
   ]
  },
  {
   "cell_type": "code",
   "execution_count": 9,
   "metadata": {
    "colab": {
     "base_uri": "https://localhost:8080/"
    },
    "id": "9mWXvTY3dJqg",
    "outputId": "19187ccb-a252-4740-ac89-f2ce40616206"
   },
   "outputs": [
    {
     "name": "stdout",
     "output_type": "stream",
     "text": [
      "\u001b[1m1/1\u001b[0m \u001b[32m━━━━━━━━━━━━━━━━━━━━\u001b[0m\u001b[37m\u001b[0m \u001b[1m0s\u001b[0m 25ms/step\n",
      "[0.99872726, 'spam']\n",
      "\u001b[1m1/1\u001b[0m \u001b[32m━━━━━━━━━━━━━━━━━━━━\u001b[0m\u001b[37m\u001b[0m \u001b[1m0s\u001b[0m 27ms/step\n",
      "[0.9944251, 'spam']\n",
      "\u001b[1m1/1\u001b[0m \u001b[32m━━━━━━━━━━━━━━━━━━━━\u001b[0m\u001b[37m\u001b[0m \u001b[1m0s\u001b[0m 32ms/step\n",
      "[0.0008536595, 'ham']\n",
      "\u001b[1m1/1\u001b[0m \u001b[32m━━━━━━━━━━━━━━━━━━━━\u001b[0m\u001b[37m\u001b[0m \u001b[1m0s\u001b[0m 31ms/step\n",
      "[0.84301764, 'spam']\n",
      "\u001b[1m1/1\u001b[0m \u001b[32m━━━━━━━━━━━━━━━━━━━━\u001b[0m\u001b[37m\u001b[0m \u001b[1m0s\u001b[0m 30ms/step\n",
      "[0.006363359, 'ham']\n",
      "\u001b[1m1/1\u001b[0m \u001b[32m━━━━━━━━━━━━━━━━━━━━\u001b[0m\u001b[37m\u001b[0m \u001b[1m0s\u001b[0m 27ms/step\n",
      "[0.0004636744, 'ham']\n",
      "\u001b[1m1/1\u001b[0m \u001b[32m━━━━━━━━━━━━━━━━━━━━\u001b[0m\u001b[37m\u001b[0m \u001b[1m0s\u001b[0m 28ms/step\n",
      "[0.9600493, 'spam']\n"
     ]
    }
   ],
   "source": [
    "# Define the prediction function\n",
    "def predict_message(pred_text):\n",
    "    sequence = tokenizer.texts_to_sequences([pred_text])\n",
    "    padded_sequence = tf.keras.preprocessing.sequence.pad_sequences(sequence, padding='post', maxlen=50)\n",
    "    prediction = model.predict(padded_sequence)[0][0]\n",
    "    label = 'spam' if prediction > 0.1 else 'ham'\n",
    "    return [prediction, label]\n",
    "\n",
    "# Test the function\n",
    "pred_text = \"urgent! call 09066350750 from your landline. your complimentary 4* ibiza holiday or 10,000 cash await collection sae t&cs po box 434 sk3 8wp 150 ppm 18+\"\n",
    "prediction = predict_message(pred_text)\n",
    "print(prediction)\n",
    "\n",
    "pred_text = \"message important information for o2 user. today is your lucky day! 2 find out why log onto http://www.urawinner.com there is a fantastic surprise awaiting you.\"\n",
    "prediction = predict_message(pred_text)\n",
    "print(prediction)\n",
    "\n",
    "pred_text = \"i dont want to go. can we try it a different day? available sat\"\n",
    "prediction = predict_message(pred_text)\n",
    "print(prediction)\n",
    "\n",
    "pred_text = \"our new mobile video service is live. just install on your phone to start watching.\"\n",
    "prediction = predict_message(pred_text)\n",
    "print(prediction)\n",
    "\n",
    "pred_text = \"shit that is really shocking and scary, cant imagine for a second. def up for night out. do u think there is somewhere i could crash for night, save on taxi?\"\n",
    "prediction = predict_message(pred_text)\n",
    "print(prediction)\n",
    "\n",
    "pred_text = \"i'll bring it tomorrow. don't forget the milk.\"\n",
    "prediction = predict_message(pred_text)\n",
    "print(prediction)\n",
    "\n",
    "pred_text = \"Congratulations! You have won a $1000 cash prize. Call now to claim.\"\n",
    "prediction = predict_message(pred_text)\n",
    "print(prediction)"
   ]
  },
  {
   "cell_type": "code",
   "execution_count": 7,
   "metadata": {
    "colab": {
     "base_uri": "https://localhost:8080/"
    },
    "id": "ryVs9uZac5jU",
    "outputId": "cfcbc806-f83e-4650-c8e2-1121142404e3"
   },
   "outputs": [
    {
     "name": "stdout",
     "output_type": "stream",
     "text": [
      "\u001b[1m1/1\u001b[0m \u001b[32m━━━━━━━━━━━━━━━━━━━━\u001b[0m\u001b[37m\u001b[0m \u001b[1m0s\u001b[0m 27ms/step\n",
      "\u001b[1m1/1\u001b[0m \u001b[32m━━━━━━━━━━━━━━━━━━━━\u001b[0m\u001b[37m\u001b[0m \u001b[1m0s\u001b[0m 44ms/step\n",
      "\u001b[1m1/1\u001b[0m \u001b[32m━━━━━━━━━━━━━━━━━━━━\u001b[0m\u001b[37m\u001b[0m \u001b[1m0s\u001b[0m 42ms/step\n",
      "\u001b[1m1/1\u001b[0m \u001b[32m━━━━━━━━━━━━━━━━━━━━\u001b[0m\u001b[37m\u001b[0m \u001b[1m0s\u001b[0m 49ms/step\n",
      "\u001b[1m1/1\u001b[0m \u001b[32m━━━━━━━━━━━━━━━━━━━━\u001b[0m\u001b[37m\u001b[0m \u001b[1m0s\u001b[0m 32ms/step\n",
      "\u001b[1m1/1\u001b[0m \u001b[32m━━━━━━━━━━━━━━━━━━━━\u001b[0m\u001b[37m\u001b[0m \u001b[1m0s\u001b[0m 50ms/step\n",
      "\u001b[1m1/1\u001b[0m \u001b[32m━━━━━━━━━━━━━━━━━━━━\u001b[0m\u001b[37m\u001b[0m \u001b[1m0s\u001b[0m 49ms/step\n",
      "You passed the challenge. Great job!\n"
     ]
    }
   ],
   "source": [
    "# Run this cell to test your function and model. Do not modify contents.\n",
    "def test_predictions():\n",
    "  test_messages = [\"how are you doing today\",\n",
    "                   \"sale today! to stop texts call 98912460324\",\n",
    "                   \"i dont want to go. can we try it a different day? available sat\",\n",
    "                   \"our new mobile video service is live. just install on your phone to start watching.\",\n",
    "                   \"you have won £1000 cash! call to claim your prize.\",\n",
    "                   \"i'll bring it tomorrow. don't forget the milk.\",\n",
    "                   \"wow, is your arm alright. that happened to me one time too\"\n",
    "                  ]\n",
    "\n",
    "  test_answers = [\"ham\", \"spam\", \"ham\", \"spam\", \"spam\", \"ham\", \"ham\"]\n",
    "  passed = True\n",
    "\n",
    "  for msg, ans in zip(test_messages, test_answers):\n",
    "    prediction = predict_message(msg)\n",
    "    if prediction[1] != ans:\n",
    "      passed = False\n",
    "\n",
    "  if passed:\n",
    "    print(\"You passed the challenge. Great job!\")\n",
    "  else:\n",
    "    print(\"You haven't passed yet. Keep trying.\")\n",
    "\n",
    "test_predictions()"
   ]
  }
 ],
 "metadata": {
  "accelerator": "GPU",
  "colab": {
   "gpuType": "T4",
   "provenance": []
  },
  "kernelspec": {
   "display_name": "Python 3",
   "name": "python3"
  },
  "language_info": {
   "codemirror_mode": {
    "name": "ipython",
    "version": 3
   },
   "file_extension": ".py",
   "mimetype": "text/x-python",
   "name": "python",
   "nbconvert_exporter": "python",
   "pygments_lexer": "ipython3",
   "version": "3.11.1"
  }
 },
 "nbformat": 4,
 "nbformat_minor": 0
}
